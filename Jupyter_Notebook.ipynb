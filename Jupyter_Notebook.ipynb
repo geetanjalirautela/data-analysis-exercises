{
 "cells": [
  {
   "cell_type": "markdown",
   "metadata": {},
   "source": [
    "<center>\n",
    "    <img src=\"https://cf-courses-data.s3.us.cloud-object-storage.appdomain.cloud/IBMDeveloperSkillsNetwork-DS0105EN-SkillsNetwork/labs/Module2/images/SN_web_lightmode.png\" width=\"300\" alt=\"cognitiveclass.ai logo\">\n",
    "</center>\n"
   ]
  },
  {
   "cell_type": "code",
   "execution_count": 1,
   "metadata": {},
   "outputs": [],
   "source": [
    "# My Notebook Title\n"
   ]
  },
  {
   "cell_type": "markdown",
   "metadata": {},
   "source": [
    "# Analysis of Sales Data"
   ]
  },
  {
   "cell_type": "markdown",
   "metadata": {},
   "source": [
    "#### Add your code below following the instructions given in the course\n"
   ]
  },
  {
   "cell_type": "markdown",
   "metadata": {},
   "source": [
    "# Introduction\n",
    "\n",
    "In this exercise, we will explore fundamental data analysis techniques using Python. The goal is to understand how to load, clean, and visualize data effectively. This introductory section provides an overview of the dataset and outlines the objectives we aim to achieve through this analysis.\n"
   ]
  },
  {
   "cell_type": "markdown",
   "metadata": {},
   "source": [
    "### Data Science Languages\n",
    "\n",
    "Some commonly used programming languages in Data Science are:\n",
    "\n",
    "- **Python**\n",
    "- **R**\n",
    "- **SQL**\n",
    "- **Julia**\n",
    "- **Java**\n",
    "- **Scala**\n",
    "- **MATLAB**\n"
   ]
  },
  {
   "cell_type": "markdown",
   "metadata": {},
   "source": [
    "### Exercise 5 - Data Science Libraries\n",
    "\n",
    "Below is a list of popular data science libraries in Python:\n",
    "\n",
    "- **NumPy** – For numerical computations and handling arrays\n",
    "- **Pandas** – For data manipulation and analysis\n",
    "- **Matplotlib** – For data visualization through graphs and charts\n",
    "- **Seaborn** – For statistical data visualization\n",
    "- **Scikit-learn** – For machine learning and predictive modeling\n",
    "- **TensorFlow** – For deep learning and neural networks\n",
    "- **Keras** – For simplifying deep learning model building\n"
   ]
  },
  {
   "cell_type": "markdown",
   "metadata": {},
   "source": [
    "### Exercise 5 - Data Science Libraries\n",
    "\n",
    "Below is a list of popular data science libraries in Python:\n",
    "\n",
    "- **NumPy** – For numerical computations and handling arrays\n",
    "- **Pandas** – For data manipulation and analysis\n",
    "- **Matplotlib** – For data visualization through graphs and charts\n",
    "- **Seaborn** – For statistical data visualization\n",
    "- **Scikit-learn** – For machine learning and predictive modeling\n",
    "- **TensorFlow** – For deep learning and neural networks\n",
    "- **Keras** – For simplifying deep learning model building\n",
    "- **Statsmodels** – For statistical modeling and testing\n"
   ]
  },
  {
   "cell_type": "markdown",
   "metadata": {},
   "source": [
    "### Data Science Tools\n",
    "\n",
    "| Tool Name       | Category             | Description                                     |\n",
    "|----------------|----------------------|-------------------------------------------------|\n",
    "| Jupyter Notebook | IDE/Notebook         | Interactive environment for code and markdown  |\n",
    "| RStudio         | IDE                  | IDE for R programming                          |\n",
    "| Apache Spark    | Big Data Processing  | Fast engine for big data processing            |\n",
    "| TensorFlow      | Machine Learning     | Open-source framework for deep learning        |\n",
    "| Tableau         | Data Visualization   | Visual analytics platform                      |\n",
    "| Excel           | Spreadsheet Tool     | Data analysis and basic visualization          |\n",
    "| Power BI        | Data Visualization   | Business analytics and data visualization tool |\n"
   ]
  },
  {
   "cell_type": "markdown",
   "metadata": {},
   "source": [
    "### Exercise 7: Arithmetic Expression Examples\n",
    "\n",
    "In this section, we will explore basic arithmetic expressions in Python. Arithmetic expressions allow us to perform mathematical operations such as addition, subtraction, multiplication, and division. Below are a few examples:\n",
    "\n",
    "- `3 + 2` performs addition\n",
    "- `7 - 4` performs subtraction\n",
    "- `5 * 6` performs multiplication\n",
    "- `8 / 2`\n",
    "\n"
   ]
  },
  {
   "cell_type": "markdown",
   "metadata": {},
   "source": [
    "# Multiplication and addition example\n",
    "a = 10\n",
    "b = 5\n",
    "\n",
    "# Multiply\n",
    "multiplication = a * b\n",
    "\n",
    "# Add\n",
    "addition = a + b\n",
    "\n",
    "print(\"Multiplication result:\", multiplication)\n",
    "print(\"Addition result:\", addition)\n"
   ]
  },
  {
   "cell_type": "markdown",
   "metadata": {},
   "source": [
    "## Convert minutes to hours\n",
    "minutes = int(input(\"Enter minutes: \"))\n",
    "hours = minutes / 60\n",
    "print(f\"{minutes} minutes is equal to {hours:.2f} hours.\")\n"
   ]
  },
  {
   "cell_type": "code",
   "execution_count": 3,
   "metadata": {},
   "outputs": [
    {
     "name": "stdin",
     "output_type": "stream",
     "text": [
      "Enter minutes:  65\n"
     ]
    },
    {
     "name": "stdout",
     "output_type": "stream",
     "text": [
      "65 minutes is equal to 1.08 hours.\n"
     ]
    }
   ],
   "source": [
    "# Convert minutes to hours\n",
    "minutes = int(input(\"Enter minutes: \"))\n",
    "hours = minutes / 60\n",
    "print(f\"{minutes} minutes is equal to {hours:.2f} hours.\")\n"
   ]
  },
  {
   "cell_type": "markdown",
   "metadata": {},
   "source": [
    "### Objectives\n",
    "- Understand how to insert and format Markdown cells.\n",
    "- Practice writing bulleted lists using Markdown.\n",
    "- Demonstrate clear communication of goals in a Jupyter Notebook.\n"
   ]
  },
  {
   "cell_type": "markdown",
   "metadata": {},
   "source": [
    "**Author:** Geetanjali Rautela\n"
   ]
  },
  {
   "cell_type": "markdown",
   "metadata": {},
   "source": []
  }
 ],
 "metadata": {
  "kernelspec": {
   "display_name": "Python 3 (ipykernel)",
   "language": "python",
   "name": "python3"
  },
  "language_info": {
   "codemirror_mode": {
    "name": "ipython",
    "version": 3
   },
   "file_extension": ".py",
   "mimetype": "text/x-python",
   "name": "python",
   "nbconvert_exporter": "python",
   "pygments_lexer": "ipython3",
   "version": "3.12.8"
  }
 },
 "nbformat": 4,
 "nbformat_minor": 4
}
